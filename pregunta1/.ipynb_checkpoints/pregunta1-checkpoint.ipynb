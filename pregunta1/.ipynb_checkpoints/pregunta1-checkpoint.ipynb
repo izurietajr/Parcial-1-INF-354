{
 "cells": [
  {
   "cell_type": "markdown",
   "id": "d5d21011",
   "metadata": {},
   "source": [
    "# Pregunta 1\n",
    "\n",
    "Seleccione un dataset del area medica o de abogacia (datos tabulares). Realice lo siguiente:\n",
    "\n",
    "   a. El calculo del 1er cuartil de datos, el percentil 50 por columna; explique qué significa en cada caso mediante Python sin uso de librerías\n",
    "   \n",
    "   b. Realice lo mismo del inciso (a) con el uso de numpy y pandas\n",
    "   \n",
    "   c. Grafique los datos y explique su comportamiento (PYTHON)"
   ]
  },
  {
   "cell_type": "markdown",
   "id": "90bfc513",
   "metadata": {},
   "source": [
    "\n",
    "## Solución a."
   ]
  },
  {
   "cell_type": "code",
   "execution_count": 19,
   "id": "75bf0a63",
   "metadata": {},
   "outputs": [],
   "source": [
    "from math import floor\n",
    "import gc\n",
    "\n",
    "class Dataset():\n",
    "\n",
    "    def __init__(self, filename):\n",
    "        self.filename = filename\n",
    "\n",
    "        \n",
    "    def to_array(self, x):\n",
    "        return x.replace(\"\\n\", \"\").split(\",\")\n",
    "\n",
    "    \n",
    "    def get_headers(self):\n",
    "        \"\"\" Lee la cabecera del archivo csv.\n",
    "        \"\"\"\n",
    "        with open(self.filename, 'r') as datafile:\n",
    "            self.headers = self.to_array(datafile.readline())\n",
    "        return self.headers\n",
    "\n",
    "    \n",
    "    def get_data(self, n=0, batch_size=None):\n",
    "        \"\"\" Abre el archivo en batches de tamaño definido\n",
    "        para no llenar la memoria al abrir el archivo completo\n",
    "        y devuelve un generador.\n",
    "        \"\"\"\n",
    "        with open(self.filename, 'r') as datafile:\n",
    "            datafile.readline()\n",
    "            if batch_size is None:\n",
    "                for line in datafile:\n",
    "                    yield self.to_array(line)\n",
    "            else:\n",
    "                init = n * batch_size\n",
    "                for i in range(init, init + batch_size):\n",
    "                    yield self.to_array(datafile.readline())\n",
    "\n",
    "                    \n",
    "    def get_length(self):\n",
    "        return sum(1 for i in self.get_data())\n",
    "                    \n",
    "\n",
    "    def get_column(self, column):\n",
    "        print(\"column:\", self.headers[column])\n",
    "        for i in self.get_data():\n",
    "            try:\n",
    "                yield float(i[column])\n",
    "            except ValueError:\n",
    "                yield i[column]\n",
    "\n",
    "                \n",
    "    def get_min_max(self, array):\n",
    "        min_val = None\n",
    "        max_val = None\n",
    "        for i in array:\n",
    "            if min_val is None:\n",
    "                min_val = i\n",
    "            if max_val is None:\n",
    "                max_val = i\n",
    "            if i < min_val:\n",
    "                min_val = i\n",
    "            if i > max_val:\n",
    "                max_val = i\n",
    "        return (min_val, max_val)\n",
    "\n",
    "\n",
    "    def make_intervals(self, column, intervals):\n",
    "        data_col = self.get_column(column)\n",
    "        col_min, col_max = self.get_min_max(self.get_column(column))\n",
    "        interval_size = (col_max-col_min)/intervals\n",
    "        intervals = []\n",
    "        i = col_min\n",
    "        while i < col_max:\n",
    "            intervals.append((i, i+interval_size))\n",
    "            i += interval_size\n",
    "        return (intervals, interval_size, col_min)\n",
    "\n",
    "    \n",
    "    def get_frequencies(self, column, intervals):\n",
    "        frequency_labels, size, col_min = self.make_intervals(column, intervals)\n",
    "        frequencies = [0 for x in range(len(frequency_labels))]\n",
    "        for i in self.get_column(column):\n",
    "            try:\n",
    "                index = floor((i - col_min) / size)\n",
    "                frequencies[index] += 1\n",
    "            except:\n",
    "                print(\"error on value:\", i)\n",
    "            \n",
    "        return frequencies\n",
    "    \n",
    "    \n",
    "    def get_cuartile(self, number):\n",
    "        quart = number * self.get_length() / 4\n",
    "        pass\n",
    "\n"
   ]
  },
  {
   "cell_type": "markdown",
   "id": "88fa6a38",
   "metadata": {},
   "source": [
    "## Solución b."
   ]
  },
  {
   "cell_type": "code",
   "execution_count": 39,
   "id": "0c0d2b27",
   "metadata": {},
   "outputs": [
    {
     "name": "stdout",
     "output_type": "stream",
     "text": [
      "Primer cuartil: 0.272281\n",
      "Percentil 50: 2.09057\n"
     ]
    },
    {
     "data": {
      "text/plain": [
       "0"
      ]
     },
     "execution_count": 39,
     "metadata": {},
     "output_type": "execute_result"
    }
   ],
   "source": [
    "import pandas as pd\n",
    "import numpy as np\n",
    "import gc\n",
    "\n",
    "filename = \"../data/sample_data.csv\"\n",
    "df = pd.read_csv(filename)\n",
    "\n",
    "imu_hand2 = df['IMU_hand2']\n",
    "imu_hand2.dropna()\n",
    "\n",
    "cuartile1 = np.percentile(imu_hand2, 25)\n",
    "print(\"Primer cuartil:\", cuartile1)\n",
    "\n",
    "percentile50 = np.percentile(imu_hand2, 50)\n",
    "print(\"Percentil 50:\", percentile50)\n",
    "\n",
    "del df\n",
    "del imu_hand2\n",
    "gc.collect()"
   ]
  },
  {
   "cell_type": "markdown",
   "id": "f3f91a3f",
   "metadata": {},
   "source": [
    "## Solución c."
   ]
  },
  {
   "cell_type": "code",
   "execution_count": 36,
   "id": "ae8bc33a",
   "metadata": {},
   "outputs": [
    {
     "name": "stdout",
     "output_type": "stream",
     "text": [
      "['timestamp', 'activity', 'heart_rate', 'IMU_hand1', 'IMU_hand2', 'IMU_hand3', 'IMU_hand4', 'IMU_hand5', 'IMU_hand6', 'IMU_hand7', 'IMU_hand8', 'IMU_hand9', 'IMU_hand10', 'IMU_hand11', 'IMU_hand12', 'IMU_hand13', 'IMU_hand14', 'IMU_hand15', 'IMU_hand16', 'IMU_hand17', 'IMU_chest1', 'IMU_chest2', 'IMU_chest3', 'IMU_chest4', 'IMU_chest5', 'IMU_chest6', 'IMU_chest7', 'IMU_chest8', 'IMU_chest9', 'IMU_chest10', 'IMU_chest11', 'IMU_chest12', 'IMU_chest13', 'IMU_chest14', 'IMU_chest15', 'IMU_chest16', 'IMU_chest17', 'IMU_ankle1', 'IMU_ankle2', 'IMU_ankle3', 'IMU_ankle4', 'IMU_ankle5', 'IMU_ankle6', 'IMU_ankle7', 'IMU_ankle8', 'IMU_ankle9', 'IMU_ankle10', 'IMU_ankle11', 'IMU_ankle12', 'IMU_ankle13', 'IMU_ankle14', 'IMU_ankle15', 'IMU_ankle16', 'IMU_ankle17']\n",
      "<generator object Dataset.get_data at 0x7f89a0aca728>\n",
      "column: IMU_hand2\n",
      "column: IMU_hand2\n",
      "[1, 1, 7, 6, 12, 6, 6, 9, 17, 17, 29, 26, 18, 17, 10, 6, 3, 4, 12, 29, 36, 159, 111, 72, 140, 141, 116, 767, 223, 104, 579, 1929, 268, 49, 11, 11, 13, 5, 17, 11, 1]\n"
     ]
    }
   ],
   "source": [
    "filename = \"../data/sample_data.csv\"\n",
    "dataset = Dataset(filename)\n",
    "headers = dataset.get_headers()\n",
    "data = dataset.get_data()\n",
    "print(headers)\n",
    "print(data)\n",
    "del data\n",
    "gc.collect()\n",
    "\n",
    "frequency = dataset.get_frequencies(4, 40)\n",
    "print(frequency)\n"
   ]
  },
  {
   "cell_type": "code",
   "execution_count": 37,
   "id": "1fae1a0f",
   "metadata": {},
   "outputs": [
    {
     "data": {
      "text/plain": [
       "<Container object of 41 artists>"
      ]
     },
     "execution_count": 37,
     "metadata": {},
     "output_type": "execute_result"
    },
    {
     "data": {
      "image/png": "[encoded data removed]",
      "text/plain": [
       "<matplotlib.figure.Figure at 0x7f89a36780b8>"
      ]
     },
     "metadata": {},
     "output_type": "display_data"
    }
   ],
   "source": [
    "import matplotlib.pyplot as plt\n",
    "\n",
    "plt.bar(range(len(frequency)), frequency)"
   ]
  },
  {
   "cell_type": "code",
   "execution_count": null,
   "id": "3f95cad6",
   "metadata": {},
   "outputs": [],
   "source": []
  }
 ],
 "metadata": {
  "kernelspec": {
   "display_name": "Python 3",
   "language": "python",
   "name": "python3"
  },
  "language_info": {
   "codemirror_mode": {
    "name": "ipython",
    "version": 3
   },
   "file_extension": ".py",
   "mimetype": "text/x-python",
   "name": "python",
   "nbconvert_exporter": "python",
   "pygments_lexer": "ipython3",
   "version": "3.6.13"
  }
 },
 "nbformat": 4,
 "nbformat_minor": 5
}
